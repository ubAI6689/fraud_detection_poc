{
 "cells": [
  {
   "cell_type": "code",
   "execution_count": 6,
   "metadata": {},
   "outputs": [
    {
     "name": "stdout",
     "output_type": "stream",
     "text": [
      "\n",
      "Model Performance:\n",
      "              precision    recall  f1-score   support\n",
      "\n",
      "       False       1.00      1.00      1.00       175\n",
      "        True       1.00      1.00      1.00        25\n",
      "\n",
      "    accuracy                           1.00       200\n",
      "   macro avg       1.00      1.00      1.00       200\n",
      "weighted avg       1.00      1.00      1.00       200\n",
      "\n",
      "Model saved to: /home/abu/deriv/fraud_detection_poc/models/fraud_detector.joblib\n"
     ]
    }
   ],
   "source": [
    "import sys\n",
    "sys.path.append('..')\n",
    "\n",
    "from src.utils.data_generator import DataGenerator\n",
    "from src.utils.feature_engineering import FeatureEngineer\n",
    "from src.models.fraud_detector import FraudDetector\n",
    "import os\n",
    "\n",
    "# Generate data\n",
    "generator = DataGenerator(seed=42)\n",
    "trades_df, transactions_df, labels_df = generator.generate_dataset(n_users=1000)\n",
    "\n",
    "# Engineer features\n",
    "engineer = FeatureEngineer()\n",
    "features = engineer.calculate_user_features(trades_df, transactions_df)\n",
    "\n",
    "# Train model\n",
    "detector = FraudDetector()\n",
    "results = detector.train(features, labels_df['is_fraudulent'])\n",
    "\n",
    "# Get absolute path to project root and create models directory\n",
    "PROJECT_ROOT = os.path.abspath(os.path.join(os.path.dirname('__file__'), '..'))\n",
    "models_dir = os.path.join(PROJECT_ROOT, 'models')\n",
    "os.makedirs(models_dir, exist_ok=True)\n",
    "\n",
    "# Save model\n",
    "model_path = os.path.join(models_dir, 'fraud_detector.joblib')\n",
    "detector.save_model(model_path)\n",
    "\n",
    "print(f\"Model saved to: {model_path}\")"
   ]
  },
  {
   "cell_type": "code",
   "execution_count": 7,
   "metadata": {},
   "outputs": [
    {
     "name": "stdout",
     "output_type": "stream",
     "text": [
      "Model file exists: True\n"
     ]
    }
   ],
   "source": [
    "print(f\"Model file exists: {os.path.exists(model_path)}\")"
   ]
  }
 ],
 "metadata": {
  "kernelspec": {
   "display_name": "venv",
   "language": "python",
   "name": "python3"
  },
  "language_info": {
   "codemirror_mode": {
    "name": "ipython",
    "version": 3
   },
   "file_extension": ".py",
   "mimetype": "text/x-python",
   "name": "python",
   "nbconvert_exporter": "python",
   "pygments_lexer": "ipython3",
   "version": "3.8.10"
  }
 },
 "nbformat": 4,
 "nbformat_minor": 2
}
