{
 "cells": [
  {
   "cell_type": "code",
   "execution_count": 1,
   "metadata": {},
   "outputs": [
    {
     "ename": "ModuleNotFoundError",
     "evalue": "No module named 'src'",
     "output_type": "error",
     "traceback": [
      "\u001b[0;31m---------------------------------------------------------------------------\u001b[0m",
      "\u001b[0;31mModuleNotFoundError\u001b[0m                       Traceback (most recent call last)",
      "Input \u001b[0;32mIn [1]\u001b[0m, in \u001b[0;36m<cell line: 6>\u001b[0;34m()\u001b[0m\n\u001b[1;32m      3\u001b[0m sys\u001b[38;5;241m.\u001b[39mpath\u001b[38;5;241m.\u001b[39mappend(\u001b[38;5;124m'\u001b[39m\u001b[38;5;124m..\u001b[39m\u001b[38;5;124m'\u001b[39m)\n\u001b[1;32m      5\u001b[0m \u001b[38;5;66;03m# Import our custom modules\u001b[39;00m\n\u001b[0;32m----> 6\u001b[0m \u001b[38;5;28;01mfrom\u001b[39;00m \u001b[38;5;21;01msrc\u001b[39;00m\u001b[38;5;21;01m.\u001b[39;00m\u001b[38;5;21;01mutils\u001b[39;00m\u001b[38;5;21;01m.\u001b[39;00m\u001b[38;5;21;01mdata_generator\u001b[39;00m \u001b[38;5;28;01mimport\u001b[39;00m DataGenerator\n\u001b[1;32m      7\u001b[0m \u001b[38;5;28;01mfrom\u001b[39;00m \u001b[38;5;21;01msrc\u001b[39;00m\u001b[38;5;21;01m.\u001b[39;00m\u001b[38;5;21;01mutils\u001b[39;00m\u001b[38;5;21;01m.\u001b[39;00m\u001b[38;5;21;01mfeature_engineering\u001b[39;00m \u001b[38;5;28;01mimport\u001b[39;00m FeatureEngineer\n\u001b[1;32m      9\u001b[0m \u001b[38;5;66;03m# Standard data science imports\u001b[39;00m\n",
      "\u001b[0;31mModuleNotFoundError\u001b[0m: No module named 'src'"
     ]
    }
   ],
   "source": [
    "# Import necessary modules - adjust the path to include our src directory\n",
    "import sys\n",
    "sys.path.append('..')\n",
    "\n",
    "# Import our custom modules\n",
    "from src.utils.data_generator import DataGenerator\n",
    "from src.utils.feature_engineering import FeatureEngineer\n",
    "\n",
    "# Standard data science imports\n",
    "import pandas as pd\n",
    "import numpy as np\n",
    "import matplotlib.pyplot as plt\n",
    "import seaborn as sns\n",
    "\n",
    "# Generate sample data\n",
    "generator = DataGenerator(seed=42)\n",
    "trades_df, transactions_df, labels_df = generator.generate_dataset(n_users=100)\n",
    "\n",
    "# Look at the data\n",
    "print(\"Trades shape:\", trades_df.shape)\n",
    "print(\"Transactions shape:\", transactions_df.shape)\n",
    "print(\"Labels shape:\", labels_df.shape)\n",
    "\n",
    "# Display sample of each dataframe\n",
    "print(\"\\nSample trades:\")\n",
    "display(trades_df.head())\n",
    "\n",
    "print(\"\\nSample transactions:\")\n",
    "display(transactions_df.head())\n",
    "\n",
    "print(\"\\nUser labels:\")\n",
    "display(labels_df.head())\n",
    "\n",
    "# Engineer features\n",
    "engineer = FeatureEngineer()\n",
    "features = engineer.calculate_user_features(trades_df, transactions_df)\n",
    "\n",
    "# Look at engineered features\n",
    "print(\"\\nEngineered features shape:\", features.shape)\n",
    "print(\"\\nFeature columns:\")\n",
    "display(features.columns.tolist())\n",
    "\n",
    "# Quick visualization of some key features\n",
    "plt.figure(figsize=(12, 6))\n",
    "plt.scatter(\n",
    "    features['deposit_amount_sum'],\n",
    "    features['withdrawal_amount_sum'],\n",
    "    c=labels_df['is_fraudulent'],\n",
    "    cmap='coolwarm'\n",
    ")\n",
    "plt.xlabel('Total Deposits')\n",
    "plt.ylabel('Total Withdrawals')\n",
    "plt.title('Deposits vs Withdrawals by User Type')\n",
    "plt.colorbar(label='Is Fraudulent')\n",
    "plt.show()"
   ]
  }
 ],
 "metadata": {
  "kernelspec": {
   "display_name": "Python 3",
   "language": "python",
   "name": "python3"
  },
  "language_info": {
   "codemirror_mode": {
    "name": "ipython",
    "version": 3
   },
   "file_extension": ".py",
   "mimetype": "text/x-python",
   "name": "python",
   "nbconvert_exporter": "python",
   "pygments_lexer": "ipython3",
   "version": "3.8.10"
  }
 },
 "nbformat": 4,
 "nbformat_minor": 2
}
